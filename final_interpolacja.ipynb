{
  "nbformat": 4,
  "nbformat_minor": 0,
  "metadata": {
    "colab": {
      "provenance": []
    },
    "kernelspec": {
      "name": "python3",
      "display_name": "Python 3"
    },
    "language_info": {
      "name": "python"
    }
  },
  "cells": [
    {
      "cell_type": "markdown",
      "source": [
        "Setup"
      ],
      "metadata": {
        "id": "A8vLIp0Mk9Jc"
      }
    },
    {
      "cell_type": "code",
      "execution_count": null,
      "metadata": {
        "id": "Xs85OrD7kVkA"
      },
      "outputs": [],
      "source": [
        "import sys\n",
        "\n",
        "sys.path.append(\"../src\")"
      ]
    },
    {
      "cell_type": "code",
      "source": [
        "import numpy as np\n",
        "import seaborn as sns\n",
        "from matplotlib import pyplot as plt\n",
        "from scipy import interpolate\n",
        "from sklearn import metrics\n",
        "\n",
        "from src.plots import PlotData, plot_interpolation\n",
        "from src import kernels\n",
        "from src.conv import conv1d_interpolate"
      ],
      "metadata": {
        "id": "oP-_E5bIkd5f"
      },
      "execution_count": null,
      "outputs": []
    },
    {
      "cell_type": "code",
      "source": [
        "sns.set()"
      ],
      "metadata": {
        "id": "AxeC0u7ZldlE"
      },
      "execution_count": null,
      "outputs": []
    },
    {
      "cell_type": "markdown",
      "source": [
        "Functions to interpolate"
      ],
      "metadata": {
        "id": "ZhjMbuELk_WO"
      }
    },
    {
      "cell_type": "code",
      "source": [
        "def simple(x):\n",
        "    return np.sin(x)\n",
        "\n",
        "def inverted_sin(x):\n",
        "    return np.sin(np.power(x, -1))\n",
        "\n",
        "def sign(x):\n",
        "    return np.sign(np.sin(8*x))"
      ],
      "metadata": {
        "id": "mLTZ8g97lAAd"
      },
      "execution_count": null,
      "outputs": []
    },
    {
      "cell_type": "code",
      "source": [
        "x = np.linspace(1e-6, 2*np.pi, 10_000)  # start from small epsilon to avoid division by zero\n",
        "\n",
        "y_simple = simple(x)\n",
        "y_sin_func = inverted_sin(x)\n",
        "y_sgn_func = sign(x)\n",
        "\n",
        "_ = plt.figure(figsize=[12, 8])\n",
        "\n",
        "_ = plt.plot(x, y_simple)\n",
        "_ = plt.plot(x, y_sin_func)\n",
        "_ = plt.plot(x, y_sgn_func)"
      ],
      "metadata": {
        "id": "r0EIk7ImlpCV"
      },
      "execution_count": null,
      "outputs": []
    },
    {
      "cell_type": "markdown",
      "source": [
        "Kernels"
      ],
      "metadata": {
        "id": "2knM618oI5DX"
      }
    },
    {
      "cell_type": "code",
      "source": [
        "x = np.linspace(-2, 2, 1000)\n",
        "\n",
        "_ = plt.figure(figsize=[12, 8])\n",
        "\n",
        "_ = plt.plot(x, kernels.sample_hold_kernel(x, offset=0, width=1))\n",
        "_ = plt.plot(x, kernels.nearest_neighbour_kernel(x, offset=0, width=1))\n",
        "_ = plt.plot(x, kernels.linear_kernel(x, offset=0, width=1))\n",
        "_ = plt.plot(x, kernels.keys_kernel(x, offset=0, width=1))\n",
        "_ = plt.plot(x, kernels.sinc_kernel(x, offset=0, width=1, alpha=np.inf))\n",
        "\n",
        "_ = plt.legend([\"Sample Hold\", \"Nearest\", \"Linear\", \"Keys\", \"Sinc\"])"
      ],
      "metadata": {
        "id": "QeZ-UIo8I4Io"
      },
      "execution_count": null,
      "outputs": []
    },
    {
      "cell_type": "code",
      "source": [
        "n_samples = 10  # define each time to easily change and investigate results\n",
        "n_predictions = 10_000\n",
        "\n",
        "x = np.linspace(1e-6, 2*np.pi, n_samples)\n",
        "y = simple(x)\n",
        "\n",
        "x_interp = np.linspace(1e-6, 2*np.pi, n_predictions)\n",
        "y_interp = conv1d_interpolate(x_measure=x, y_measure=y, x_interpolate=x_interp, kernel=kernels.sinc_kernel)\n",
        "y_true = simple(x_interp)\n",
        "\n",
        "print(f\"MSE: {metrics.mean_squared_error(y_pred=y_interp, y_true=y_true):.8f}\")\n",
        "plot_interpolation(measure=PlotData(x=x, y=y), interpolation=PlotData(x=x_interp, y=y_interp), real=PlotData(x=x_interp, y=y_true))"
      ],
      "metadata": {
        "id": "8W2J821NJgGD"
      },
      "execution_count": null,
      "outputs": []
    },
    {
      "cell_type": "code",
      "source": [
        "n_samples = 10  # define each time to easily change and investigate results\n",
        "n_predictions = 10_000\n",
        "\n",
        "x = np.linspace(1e-6, 2*np.pi, n_samples)\n",
        "y = inverted_sin(x)\n",
        "\n",
        "x_interp = np.linspace(1e-6, 2*np.pi, n_predictions)\n",
        "y_interp = conv1d_interpolate(x_measure=x, y_measure=y, x_interpolate=x_interp, kernel=kernels.keys_kernel)\n",
        "y_true = inverted_sin(x_interp)\n",
        "\n",
        "print(f\"MSE: {metrics.mean_squared_error(y_pred=y_interp, y_true=y_true):.8f}\")\n",
        "plot_interpolation(measure=PlotData(x=x, y=y), interpolation=PlotData(x=x_interp, y=y_interp), real=PlotData(x=x_interp, y=y_true))"
      ],
      "metadata": {
        "id": "HBkAVSOVIzUd"
      },
      "execution_count": null,
      "outputs": []
    },
    {
      "cell_type": "code",
      "source": [
        "n_samples = 10  # define each time to easily change and investigate results\n",
        "n_predictions = 10_000\n",
        "\n",
        "x = np.linspace(1e-6, 2*np.pi, n_samples)\n",
        "y = sign(x)\n",
        "\n",
        "x_interp = np.linspace(1e-6, 2*np.pi, n_predictions)\n",
        "y_interp = conv1d_interpolate(x_measure=x, y_measure=y, x_interpolate=x_interp, kernel=kernels.linear_kernel)\n",
        "y_true = sign(x_interp)\n",
        "\n",
        "print(f\"MSE: {metrics.mean_squared_error(y_pred=y_interp, y_true=y_true):.8f}\")\n",
        "plot_interpolation(measure=PlotData(x=x, y=y), interpolation=PlotData(x=x_interp, y=y_interp), real=PlotData(x=x_interp, y=y_true))"
      ],
      "metadata": {
        "id": "sHDFZJp8KNqq"
      },
      "execution_count": null,
      "outputs": []
    },
    {
      "cell_type": "markdown",
      "source": [
        "# Image Interpolation"
      ],
      "metadata": {
        "id": "xzjbjSMaNQUz"
      }
    },
    {
      "cell_type": "markdown",
      "source": [
        "Setup"
      ],
      "metadata": {
        "id": "HjuYQaQuNW7Y"
      }
    },
    {
      "cell_type": "code",
      "source": [
        "import sys\n",
        "\n",
        "sys.path.append(\"../src\")"
      ],
      "metadata": {
        "id": "AhmEQw9ENXe9"
      },
      "execution_count": null,
      "outputs": []
    },
    {
      "cell_type": "code",
      "source": [
        "import fractions\n",
        "\n",
        "import numpy as np\n",
        "from numpy.typing import NDArray\n",
        "from skimage import io, transform, color\n",
        "\n",
        "from src.downsampling import rgb_downsample, nonlinear_downsample\n",
        "from src.conv import image_interpolate, rgb_image_interpolate\n",
        "from src import kernels"
      ],
      "metadata": {
        "id": "owpCqJQONY_L"
      },
      "execution_count": null,
      "outputs": []
    },
    {
      "cell_type": "markdown",
      "source": [
        "Data"
      ],
      "metadata": {
        "id": "92hvNROJNa95"
      }
    },
    {
      "cell_type": "code",
      "source": [
        "color_image = io.imread(r\"../../data/image.jpg\")\n",
        "color_image = transform.resize(color_image, output_shape=(1000, 1000, 3))\n",
        "\n",
        "grey_image = color.rgb2gray(color_image)  # convert to grey-scale to work with both\n",
        "grey_image.shape, color_image.shape"
      ],
      "metadata": {
        "id": "U4IjWJV7NbbW"
      },
      "execution_count": null,
      "outputs": []
    },
    {
      "cell_type": "markdown",
      "source": [
        "((1000, 1000), (1000, 1000, 3))"
      ],
      "metadata": {
        "id": "P8C8tM3SNfRE"
      }
    },
    {
      "cell_type": "markdown",
      "source": [
        "Downsampling"
      ],
      "metadata": {
        "id": "9cPYyEDtNlsk"
      }
    },
    {
      "cell_type": "code",
      "source": [
        "downsampled = rgb_downsample(color_image, kernel_size=2)\n",
        "_ = io.imshow(downsampled)"
      ],
      "metadata": {
        "id": "lWAIYZZmNuFp"
      },
      "execution_count": null,
      "outputs": []
    },
    {
      "cell_type": "code",
      "source": [
        "downsampled = nonlinear_downsample(grey_image, kernel_size=2, aggregate=np.max)\n",
        "_ = io.imshow(downsampled)"
      ],
      "metadata": {
        "id": "o3Wgl5BLN82K"
      },
      "execution_count": null,
      "outputs": []
    },
    {
      "cell_type": "markdown",
      "source": [
        "Upsampling"
      ],
      "metadata": {
        "id": "XdNO3Gp6N_Eu"
      }
    },
    {
      "cell_type": "code",
      "source": [
        "grey_image.shape"
      ],
      "metadata": {
        "id": "_mNG07ErOCTO"
      },
      "execution_count": null,
      "outputs": []
    },
    {
      "cell_type": "markdown",
      "source": [
        "(1000, 1000)"
      ],
      "metadata": {
        "id": "QxV4r5lfOE-z"
      }
    },
    {
      "cell_type": "code",
      "source": [
        "%%time\n",
        "\n",
        "upsampled = image_interpolate(grey_image, kernel=kernels.linear_kernel, ratio=2)\n",
        "upsampled.shape"
      ],
      "metadata": {
        "id": "GIinV4NaOGuk"
      },
      "execution_count": null,
      "outputs": []
    },
    {
      "cell_type": "markdown",
      "source": [
        "(2000, 2000)"
      ],
      "metadata": {
        "id": "4oF9jGd0OJCi"
      }
    },
    {
      "cell_type": "code",
      "source": [
        "_ = io.imshow(upsampled)"
      ],
      "metadata": {
        "id": "VKfJhMDzOLCK"
      },
      "execution_count": null,
      "outputs": []
    },
    {
      "cell_type": "markdown",
      "source": [
        "RGB image can be interpolated the same way by applying ineterpolation to each channel"
      ],
      "metadata": {
        "id": "PI3we6yfOQqZ"
      }
    },
    {
      "cell_type": "code",
      "source": [
        "%%time\n",
        "\n",
        "color_image = transform.resize(color_image, output_shape=(400, 400, 3))  # scale down to avoid long wait time\n",
        "color_upsampled_image = rgb_image_interpolate(color_image, kernel=kernels.linear_kernel, ratio=2)\n",
        "color_upsampled_image.shape"
      ],
      "metadata": {
        "id": "Ps_0GeV4ORBe"
      },
      "execution_count": null,
      "outputs": []
    },
    {
      "cell_type": "markdown",
      "source": [
        "(800, 800, 3)"
      ],
      "metadata": {
        "id": "6U1i0Yb6OSta"
      }
    },
    {
      "cell_type": "code",
      "source": [
        "_ = io.imshow(color_upsampled_image)"
      ],
      "metadata": {
        "id": "jJAeEhMrOUEy"
      },
      "execution_count": null,
      "outputs": []
    }
  ]
}